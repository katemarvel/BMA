{
 "cells": [
  {
   "cell_type": "code",
   "execution_count": 22,
   "id": "ordinary-positive",
   "metadata": {},
   "outputs": [],
   "source": [
    "import arviz as az\n",
    "import pymc3 as pm\n",
    "import numpy as np\n",
    "import matplotlib.pyplot as plt\n",
    "import pandas as pd\n",
    "import seaborn as sns\n",
    "import scipy.integrate as integrate"
   ]
  },
  {
   "cell_type": "code",
   "execution_count": 23,
   "id": "similar-jamaica",
   "metadata": {},
   "outputs": [],
   "source": [
    "#https://cp.copernicus.org/articles/17/1065/2021/cp-17-1065-2021-supplement.pdf\n",
    "pmip=pd.read_csv(\"PMIP.dat\",delim_whitespace=True)"
   ]
  },
  {
   "cell_type": "code",
   "execution_count": 24,
   "id": "smooth-baseline",
   "metadata": {},
   "outputs": [],
   "source": [
    "sheet_id=\"1EjugdAQ4ACrN_oJPsOWDWr0tf4mNZTRcTuejAwivTx8\"\n",
    "sheet_name = \"Temperature\"\n",
    "url_t = f\"https://docs.google.com/spreadsheets/d/{sheet_id}/gviz/tq?tqx=out:csv&sheet={sheet_name}\"\n",
    "LGM_temperature=pd.read_csv(url_t)\n",
    "\n",
    "sheet_name = \"Forcing\"\n",
    "url_f = f\"https://docs.google.com/spreadsheets/d/{sheet_id}/gviz/tq?tqx=out:csv&sheet={sheet_name}\"\n",
    "LGM_forcing=pd.read_csv(url_f)"
   ]
  },
  {
   "cell_type": "code",
   "execution_count": 25,
   "id": "similar-canon",
   "metadata": {},
   "outputs": [
    {
     "data": {
      "text/html": [
       "<div>\n",
       "<style scoped>\n",
       "    .dataframe tbody tr th:only-of-type {\n",
       "        vertical-align: middle;\n",
       "    }\n",
       "\n",
       "    .dataframe tbody tr th {\n",
       "        vertical-align: top;\n",
       "    }\n",
       "\n",
       "    .dataframe thead th {\n",
       "        text-align: right;\n",
       "    }\n",
       "</style>\n",
       "<table border=\"1\" class=\"dataframe\">\n",
       "  <thead>\n",
       "    <tr style=\"text-align: right;\">\n",
       "      <th></th>\n",
       "      <th>Quantity</th>\n",
       "      <th>Mean</th>\n",
       "      <th>Sigma</th>\n",
       "      <th>Reference</th>\n",
       "      <th>Model</th>\n",
       "      <th>Other</th>\n",
       "    </tr>\n",
       "  </thead>\n",
       "  <tbody>\n",
       "    <tr>\n",
       "      <th>0</th>\n",
       "      <td>Rice</td>\n",
       "      <td>-3.79</td>\n",
       "      <td>NaN</td>\n",
       "      <td>https://royalsocietypublishing.org/doi/full/10...</td>\n",
       "      <td>CCSM4</td>\n",
       "      <td>PMIP3</td>\n",
       "    </tr>\n",
       "    <tr>\n",
       "      <th>1</th>\n",
       "      <td>Rice</td>\n",
       "      <td>-4.90</td>\n",
       "      <td>NaN</td>\n",
       "      <td>https://royalsocietypublishing.org/doi/full/10...</td>\n",
       "      <td>IPSL-CM5A-LR</td>\n",
       "      <td>PMIP3</td>\n",
       "    </tr>\n",
       "    <tr>\n",
       "      <th>2</th>\n",
       "      <td>Rice</td>\n",
       "      <td>-5.20</td>\n",
       "      <td>NaN</td>\n",
       "      <td>https://royalsocietypublishing.org/doi/full/10...</td>\n",
       "      <td>MIROC-ESM</td>\n",
       "      <td>PMIP3</td>\n",
       "    </tr>\n",
       "    <tr>\n",
       "      <th>3</th>\n",
       "      <td>Rice</td>\n",
       "      <td>-4.57</td>\n",
       "      <td>NaN</td>\n",
       "      <td>https://royalsocietypublishing.org/doi/full/10...</td>\n",
       "      <td>MPI-ESM-P</td>\n",
       "      <td>PMIP3</td>\n",
       "    </tr>\n",
       "    <tr>\n",
       "      <th>4</th>\n",
       "      <td>Rice</td>\n",
       "      <td>-3.62</td>\n",
       "      <td>NaN</td>\n",
       "      <td>https://royalsocietypublishing.org/doi/full/10...</td>\n",
       "      <td>MRI-CGCM3</td>\n",
       "      <td>PMIP3</td>\n",
       "    </tr>\n",
       "    <tr>\n",
       "      <th>5</th>\n",
       "      <td>Rice</td>\n",
       "      <td>-2.59</td>\n",
       "      <td>NaN</td>\n",
       "      <td>https://www.nature.com/articles/nclimate1456</td>\n",
       "      <td>CCSM3</td>\n",
       "      <td>PMIP4</td>\n",
       "    </tr>\n",
       "    <tr>\n",
       "      <th>6</th>\n",
       "      <td>Rice</td>\n",
       "      <td>-2.66</td>\n",
       "      <td>NaN</td>\n",
       "      <td>https://www.nature.com/articles/nclimate1456</td>\n",
       "      <td>CMRM</td>\n",
       "      <td>PMIP4</td>\n",
       "    </tr>\n",
       "    <tr>\n",
       "      <th>7</th>\n",
       "      <td>Rice</td>\n",
       "      <td>-3.23</td>\n",
       "      <td>NaN</td>\n",
       "      <td>https://www.nature.com/articles/nclimate1456</td>\n",
       "      <td>HadCM3M2</td>\n",
       "      <td>PMIP4</td>\n",
       "    </tr>\n",
       "    <tr>\n",
       "      <th>8</th>\n",
       "      <td>Rice</td>\n",
       "      <td>-3.41</td>\n",
       "      <td>NaN</td>\n",
       "      <td>https://www.nature.com/articles/nclimate1456</td>\n",
       "      <td>HadCM3M2 v</td>\n",
       "      <td>PMIP4</td>\n",
       "    </tr>\n",
       "    <tr>\n",
       "      <th>9</th>\n",
       "      <td>Rice</td>\n",
       "      <td>-3.48</td>\n",
       "      <td>NaN</td>\n",
       "      <td>https://www.nature.com/articles/nclimate1456</td>\n",
       "      <td>IPSL-CM4</td>\n",
       "      <td>PMIP4</td>\n",
       "    </tr>\n",
       "    <tr>\n",
       "      <th>10</th>\n",
       "      <td>Rice</td>\n",
       "      <td>-2.88</td>\n",
       "      <td>NaN</td>\n",
       "      <td>https://www.nature.com/articles/nclimate1456</td>\n",
       "      <td>MIROC3.2</td>\n",
       "      <td>PMIP4</td>\n",
       "    </tr>\n",
       "    <tr>\n",
       "      <th>11</th>\n",
       "      <td>Rice</td>\n",
       "      <td>-3.29</td>\n",
       "      <td>NaN</td>\n",
       "      <td>https://www.nature.com/articles/s41586-020-261...</td>\n",
       "      <td>CESM1.2</td>\n",
       "      <td>PMIP4</td>\n",
       "    </tr>\n",
       "    <tr>\n",
       "      <th>12</th>\n",
       "      <td>Rghg</td>\n",
       "      <td>-2.60</td>\n",
       "      <td>0.102041</td>\n",
       "      <td>https://cp.copernicus.org/articles/17/253/2021/</td>\n",
       "      <td>NaN</td>\n",
       "      <td>NaN</td>\n",
       "    </tr>\n",
       "    <tr>\n",
       "      <th>13</th>\n",
       "      <td>Rghg</td>\n",
       "      <td>-2.48</td>\n",
       "      <td>0.150000</td>\n",
       "      <td>https://www.nature.com/articles/s41586-020-261...</td>\n",
       "      <td>NaN</td>\n",
       "      <td>NaN</td>\n",
       "    </tr>\n",
       "    <tr>\n",
       "      <th>14</th>\n",
       "      <td>Rghg</td>\n",
       "      <td>-3.15</td>\n",
       "      <td>0.260000</td>\n",
       "      <td>Sherwood et al 2020</td>\n",
       "      <td>NaN</td>\n",
       "      <td>NaN</td>\n",
       "    </tr>\n",
       "    <tr>\n",
       "      <th>15</th>\n",
       "      <td>Rdust</td>\n",
       "      <td>-0.12</td>\n",
       "      <td>NaN</td>\n",
       "      <td>Albani 2014; Albani 2019</td>\n",
       "      <td>C4fn-lgm</td>\n",
       "      <td>NaN</td>\n",
       "    </tr>\n",
       "    <tr>\n",
       "      <th>16</th>\n",
       "      <td>Rdust</td>\n",
       "      <td>-0.36</td>\n",
       "      <td>NaN</td>\n",
       "      <td>Hopcroft 2015</td>\n",
       "      <td>HadGEM2-A fixPIveg</td>\n",
       "      <td>NaN</td>\n",
       "    </tr>\n",
       "    <tr>\n",
       "      <th>17</th>\n",
       "      <td>Rdust</td>\n",
       "      <td>-1.10</td>\n",
       "      <td>NaN</td>\n",
       "      <td>Hopcroft 2015</td>\n",
       "      <td>HadGEM2-A</td>\n",
       "      <td>NaN</td>\n",
       "    </tr>\n",
       "    <tr>\n",
       "      <th>18</th>\n",
       "      <td>Rdust</td>\n",
       "      <td>-0.32</td>\n",
       "      <td>NaN</td>\n",
       "      <td>Hopcroft 2015</td>\n",
       "      <td>HadGEM2-A-DEAD</td>\n",
       "      <td>NaN</td>\n",
       "    </tr>\n",
       "    <tr>\n",
       "      <th>19</th>\n",
       "      <td>Rdust</td>\n",
       "      <td>-2.00</td>\n",
       "      <td>NaN</td>\n",
       "      <td>Claquin 2003</td>\n",
       "      <td>Exp1 (ext. mixing)</td>\n",
       "      <td>NaN</td>\n",
       "    </tr>\n",
       "    <tr>\n",
       "      <th>20</th>\n",
       "      <td>Rdust</td>\n",
       "      <td>-1.00</td>\n",
       "      <td>NaN</td>\n",
       "      <td>Claquin 2003</td>\n",
       "      <td>Exp2 (int. mix. Hem.)</td>\n",
       "      <td>NaN</td>\n",
       "    </tr>\n",
       "    <tr>\n",
       "      <th>21</th>\n",
       "      <td>Rdust</td>\n",
       "      <td>-0.48</td>\n",
       "      <td>NaN</td>\n",
       "      <td>Mahowald 2006</td>\n",
       "      <td>SOMB / SOMBLGMT</td>\n",
       "      <td>NaN</td>\n",
       "    </tr>\n",
       "    <tr>\n",
       "      <th>22</th>\n",
       "      <td>Rdust</td>\n",
       "      <td>-0.01</td>\n",
       "      <td>NaN</td>\n",
       "      <td>Takemura 2009</td>\n",
       "      <td>NaN</td>\n",
       "      <td>NaN</td>\n",
       "    </tr>\n",
       "    <tr>\n",
       "      <th>23</th>\n",
       "      <td>Rdust</td>\n",
       "      <td>0.10</td>\n",
       "      <td>NaN</td>\n",
       "      <td>Yue 2011</td>\n",
       "      <td>PRND / LGM.DST</td>\n",
       "      <td>NaN</td>\n",
       "    </tr>\n",
       "    <tr>\n",
       "      <th>24</th>\n",
       "      <td>Rinsolation</td>\n",
       "      <td>0.01</td>\n",
       "      <td>NaN</td>\n",
       "      <td>https://royalsocietypublishing.org/doi/full/10...</td>\n",
       "      <td>CCSM4</td>\n",
       "      <td>NaN</td>\n",
       "    </tr>\n",
       "    <tr>\n",
       "      <th>25</th>\n",
       "      <td>Rinsolation</td>\n",
       "      <td>0.01</td>\n",
       "      <td>NaN</td>\n",
       "      <td>https://royalsocietypublishing.org/doi/full/10...</td>\n",
       "      <td>IPSL-CM5A-LR</td>\n",
       "      <td>NaN</td>\n",
       "    </tr>\n",
       "    <tr>\n",
       "      <th>26</th>\n",
       "      <td>Rinsolation</td>\n",
       "      <td>0.13</td>\n",
       "      <td>NaN</td>\n",
       "      <td>https://royalsocietypublishing.org/doi/full/10...</td>\n",
       "      <td>MIROC-ESM</td>\n",
       "      <td>NaN</td>\n",
       "    </tr>\n",
       "    <tr>\n",
       "      <th>27</th>\n",
       "      <td>Rinsolation</td>\n",
       "      <td>0.01</td>\n",
       "      <td>NaN</td>\n",
       "      <td>https://royalsocietypublishing.org/doi/full/10...</td>\n",
       "      <td>MPI-ESM-P</td>\n",
       "      <td>NaN</td>\n",
       "    </tr>\n",
       "    <tr>\n",
       "      <th>28</th>\n",
       "      <td>Rinsolation</td>\n",
       "      <td>0.01</td>\n",
       "      <td>NaN</td>\n",
       "      <td>https://royalsocietypublishing.org/doi/full/10...</td>\n",
       "      <td>MRI-CGCM3</td>\n",
       "      <td>NaN</td>\n",
       "    </tr>\n",
       "  </tbody>\n",
       "</table>\n",
       "</div>"
      ],
      "text/plain": [
       "       Quantity  Mean     Sigma  \\\n",
       "0          Rice -3.79       NaN   \n",
       "1          Rice -4.90       NaN   \n",
       "2          Rice -5.20       NaN   \n",
       "3          Rice -4.57       NaN   \n",
       "4          Rice -3.62       NaN   \n",
       "5          Rice -2.59       NaN   \n",
       "6          Rice -2.66       NaN   \n",
       "7          Rice -3.23       NaN   \n",
       "8          Rice -3.41       NaN   \n",
       "9          Rice -3.48       NaN   \n",
       "10         Rice -2.88       NaN   \n",
       "11         Rice -3.29       NaN   \n",
       "12         Rghg -2.60  0.102041   \n",
       "13         Rghg -2.48  0.150000   \n",
       "14         Rghg -3.15  0.260000   \n",
       "15        Rdust -0.12       NaN   \n",
       "16        Rdust -0.36       NaN   \n",
       "17        Rdust -1.10       NaN   \n",
       "18        Rdust -0.32       NaN   \n",
       "19        Rdust -2.00       NaN   \n",
       "20        Rdust -1.00       NaN   \n",
       "21        Rdust -0.48       NaN   \n",
       "22        Rdust -0.01       NaN   \n",
       "23        Rdust  0.10       NaN   \n",
       "24  Rinsolation  0.01       NaN   \n",
       "25  Rinsolation  0.01       NaN   \n",
       "26  Rinsolation  0.13       NaN   \n",
       "27  Rinsolation  0.01       NaN   \n",
       "28  Rinsolation  0.01       NaN   \n",
       "\n",
       "                                            Reference                  Model  \\\n",
       "0   https://royalsocietypublishing.org/doi/full/10...                  CCSM4   \n",
       "1   https://royalsocietypublishing.org/doi/full/10...           IPSL-CM5A-LR   \n",
       "2   https://royalsocietypublishing.org/doi/full/10...              MIROC-ESM   \n",
       "3   https://royalsocietypublishing.org/doi/full/10...              MPI-ESM-P   \n",
       "4   https://royalsocietypublishing.org/doi/full/10...              MRI-CGCM3   \n",
       "5        https://www.nature.com/articles/nclimate1456                  CCSM3   \n",
       "6        https://www.nature.com/articles/nclimate1456                   CMRM   \n",
       "7        https://www.nature.com/articles/nclimate1456               HadCM3M2   \n",
       "8        https://www.nature.com/articles/nclimate1456             HadCM3M2 v   \n",
       "9        https://www.nature.com/articles/nclimate1456               IPSL-CM4   \n",
       "10       https://www.nature.com/articles/nclimate1456               MIROC3.2   \n",
       "11  https://www.nature.com/articles/s41586-020-261...                CESM1.2   \n",
       "12    https://cp.copernicus.org/articles/17/253/2021/                    NaN   \n",
       "13  https://www.nature.com/articles/s41586-020-261...                    NaN   \n",
       "14                                Sherwood et al 2020                    NaN   \n",
       "15                           Albani 2014; Albani 2019               C4fn-lgm   \n",
       "16                                      Hopcroft 2015     HadGEM2-A fixPIveg   \n",
       "17                                      Hopcroft 2015              HadGEM2-A   \n",
       "18                                      Hopcroft 2015         HadGEM2-A-DEAD   \n",
       "19                                       Claquin 2003     Exp1 (ext. mixing)   \n",
       "20                                       Claquin 2003  Exp2 (int. mix. Hem.)   \n",
       "21                                      Mahowald 2006        SOMB / SOMBLGMT   \n",
       "22                                      Takemura 2009                    NaN   \n",
       "23                                           Yue 2011         PRND / LGM.DST   \n",
       "24  https://royalsocietypublishing.org/doi/full/10...                  CCSM4   \n",
       "25  https://royalsocietypublishing.org/doi/full/10...           IPSL-CM5A-LR   \n",
       "26  https://royalsocietypublishing.org/doi/full/10...              MIROC-ESM   \n",
       "27  https://royalsocietypublishing.org/doi/full/10...              MPI-ESM-P   \n",
       "28  https://royalsocietypublishing.org/doi/full/10...              MRI-CGCM3   \n",
       "\n",
       "    Other  \n",
       "0   PMIP3  \n",
       "1   PMIP3  \n",
       "2   PMIP3  \n",
       "3   PMIP3  \n",
       "4   PMIP3  \n",
       "5   PMIP4  \n",
       "6   PMIP4  \n",
       "7   PMIP4  \n",
       "8   PMIP4  \n",
       "9   PMIP4  \n",
       "10  PMIP4  \n",
       "11  PMIP4  \n",
       "12    NaN  \n",
       "13    NaN  \n",
       "14    NaN  \n",
       "15    NaN  \n",
       "16    NaN  \n",
       "17    NaN  \n",
       "18    NaN  \n",
       "19    NaN  \n",
       "20    NaN  \n",
       "21    NaN  \n",
       "22    NaN  \n",
       "23    NaN  \n",
       "24    NaN  \n",
       "25    NaN  \n",
       "26    NaN  \n",
       "27    NaN  \n",
       "28    NaN  "
      ]
     },
     "execution_count": 25,
     "metadata": {},
     "output_type": "execute_result"
    }
   ],
   "source": [
    "LGM_forcing"
   ]
  },
  {
   "cell_type": "code",
   "execution_count": 4,
   "id": "commercial-denial",
   "metadata": {},
   "outputs": [],
   "source": [
    "#Studies with reported standard deviations\n",
    "y=LGM_temperature[(LGM_temperature.Other!=\"PMIP4\") & (LGM_temperature.Other!=\"PMIP3\")].Mean.values\n",
    "s=LGM_temperature[(LGM_temperature.Other!=\"PMIP4\") & (LGM_temperature.Other!=\"PMIP3\")].Sigma.values\n",
    "\n",
    "#PMIP model values\n",
    "pmip4=LGM_temperature[(LGM_temperature.Other==\"PMIP4\")].Mean.values\n",
    "y=np.append(y,np.average(pmip4))\n",
    "s=np.append(s,np.std(pmip4))\n",
    "\n",
    "pmip3=LGM_temperature[(LGM_temperature.Other==\"PMIP3\")].Mean.values\n",
    "y=np.append(y,np.average(pmip3))\n",
    "s=np.append(s,np.std(pmip3))"
   ]
  },
  {
   "cell_type": "code",
   "execution_count": 5,
   "id": "offshore-tuesday",
   "metadata": {},
   "outputs": [],
   "source": [
    "with pm.Model() as tierneyprior:\n",
    "    #priors on latent underlying mean and inter-study spread (random effects model, tau=0 for fixed effects)\n",
    "    μ=pm.Normal(\"μ\",-6.1,sd=0.2)\n",
    "    #τ=pm.InverseGamma(\"τ\",1,0.15)\n",
    "    τ=pm.Uniform(\"τ\",0,100)\n",
    "    θ=pm.Normal('θ',μ,sd=τ,shape=len(y))\n",
    "    obs=pm.Normal(\"obs\",θ,sd=s,observed=y)\n",
    "    \n",
    "with pm.Model() as tierneyprior_fixed:\n",
    "    #priors on latent underlying mean and inter-study spread (random effects model, tau=0 for fixed effects)\n",
    "    μ=pm.Normal(\"μ\",-6.1,sd=0.2)\n",
    "    #τ=pm.InverseGamma(\"τ\",1,0.15)\n",
    "   # τ=pm.Uniform(\"τ\",0,100)\n",
    "   # θ=pm.Normal('θ',μ,sd=τ,shape=len(y))\n",
    "    obs=pm.Normal(\"obs\",μ,sd=s,observed=y)\n",
    "    \n",
    "with pm.Model() as broadprior:\n",
    "    #priors on latent underlying mean and inter-study spread (random effects model, tau=0 for fixed effects)\n",
    "    μ=pm.Normal(\"μ\",0,sd=100)\n",
    "    #τ=pm.InverseGamma(\"τ\",1,0.15)\n",
    "    τ=pm.Uniform(\"τ\",0,100)\n",
    "    θ=pm.Normal('θ',μ,sd=τ,shape=len(y))\n",
    "    obs=pm.Normal(\"obs\",θ,sd=s,observed=y)\n",
    "    \n",
    "    \n",
    "with pm.Model() as broadprior_fixed:\n",
    "    #priors on latent underlying mean and inter-study spread (random effects model, tau=0 for fixed effects)\n",
    "    μ=pm.Normal(\"μ\",0,sd=100)\n",
    "    #τ=pm.InverseGamma(\"τ\",1,0.15)\n",
    "   # τ=pm.Uniform(\"τ\",0,100)\n",
    "   # θ=pm.Normal('θ',μ,sd=τ,shape=len(y))\n",
    "    obs=pm.Normal(\"obs\",μ,sd=s,observed=y)    "
   ]
  },
  {
   "cell_type": "code",
   "execution_count": 6,
   "id": "satellite-prototype",
   "metadata": {},
   "outputs": [
    {
     "name": "stderr",
     "output_type": "stream",
     "text": [
      "Auto-assigning NUTS sampler...\n",
      "Initializing NUTS using jitter+adapt_diag...\n",
      "Multiprocess sampling (4 chains in 4 jobs)\n",
      "NUTS: [θ, τ, μ]\n"
     ]
    },
    {
     "data": {
      "text/html": [
       "\n",
       "    <div>\n",
       "        <style>\n",
       "            /* Turns off some styling */\n",
       "            progress {\n",
       "                /* gets rid of default border in Firefox and Opera. */\n",
       "                border: none;\n",
       "                /* Needs to be in here for Safari polyfill so background images work as expected. */\n",
       "                background-size: auto;\n",
       "            }\n",
       "            .progress-bar-interrupted, .progress-bar-interrupted::-webkit-progress-bar {\n",
       "                background: #F44336;\n",
       "            }\n",
       "        </style>\n",
       "      <progress value='8000' class='' max='8000' style='width:300px; height:20px; vertical-align: middle;'></progress>\n",
       "      100.00% [8000/8000 00:06<00:00 Sampling 4 chains, 0 divergences]\n",
       "    </div>\n",
       "    "
      ],
      "text/plain": [
       "<IPython.core.display.HTML object>"
      ]
     },
     "metadata": {},
     "output_type": "display_data"
    },
    {
     "name": "stderr",
     "output_type": "stream",
     "text": [
      "Sampling 4 chains for 1_000 tune and 1_000 draw iterations (4_000 + 4_000 draws total) took 23 seconds.\n",
      "Auto-assigning NUTS sampler...\n",
      "Initializing NUTS using jitter+adapt_diag...\n",
      "Multiprocess sampling (4 chains in 4 jobs)\n",
      "NUTS: [μ]\n"
     ]
    },
    {
     "data": {
      "text/html": [
       "\n",
       "    <div>\n",
       "        <style>\n",
       "            /* Turns off some styling */\n",
       "            progress {\n",
       "                /* gets rid of default border in Firefox and Opera. */\n",
       "                border: none;\n",
       "                /* Needs to be in here for Safari polyfill so background images work as expected. */\n",
       "                background-size: auto;\n",
       "            }\n",
       "            .progress-bar-interrupted, .progress-bar-interrupted::-webkit-progress-bar {\n",
       "                background: #F44336;\n",
       "            }\n",
       "        </style>\n",
       "      <progress value='8000' class='' max='8000' style='width:300px; height:20px; vertical-align: middle;'></progress>\n",
       "      100.00% [8000/8000 00:02<00:00 Sampling 4 chains, 0 divergences]\n",
       "    </div>\n",
       "    "
      ],
      "text/plain": [
       "<IPython.core.display.HTML object>"
      ]
     },
     "metadata": {},
     "output_type": "display_data"
    },
    {
     "name": "stderr",
     "output_type": "stream",
     "text": [
      "Sampling 4 chains for 1_000 tune and 1_000 draw iterations (4_000 + 4_000 draws total) took 20 seconds.\n",
      "The acceptance probability does not match the target. It is 0.8846983060955458, but should be close to 0.8. Try to increase the number of tuning steps.\n",
      "Auto-assigning NUTS sampler...\n",
      "Initializing NUTS using jitter+adapt_diag...\n",
      "Multiprocess sampling (4 chains in 4 jobs)\n",
      "NUTS: [θ, τ, μ]\n"
     ]
    },
    {
     "data": {
      "text/html": [
       "\n",
       "    <div>\n",
       "        <style>\n",
       "            /* Turns off some styling */\n",
       "            progress {\n",
       "                /* gets rid of default border in Firefox and Opera. */\n",
       "                border: none;\n",
       "                /* Needs to be in here for Safari polyfill so background images work as expected. */\n",
       "                background-size: auto;\n",
       "            }\n",
       "            .progress-bar-interrupted, .progress-bar-interrupted::-webkit-progress-bar {\n",
       "                background: #F44336;\n",
       "            }\n",
       "        </style>\n",
       "      <progress value='8000' class='' max='8000' style='width:300px; height:20px; vertical-align: middle;'></progress>\n",
       "      100.00% [8000/8000 00:04<00:00 Sampling 4 chains, 0 divergences]\n",
       "    </div>\n",
       "    "
      ],
      "text/plain": [
       "<IPython.core.display.HTML object>"
      ]
     },
     "metadata": {},
     "output_type": "display_data"
    },
    {
     "name": "stderr",
     "output_type": "stream",
     "text": [
      "Sampling 4 chains for 1_000 tune and 1_000 draw iterations (4_000 + 4_000 draws total) took 16 seconds.\n",
      "Auto-assigning NUTS sampler...\n",
      "Initializing NUTS using jitter+adapt_diag...\n",
      "Multiprocess sampling (4 chains in 4 jobs)\n",
      "NUTS: [μ]\n"
     ]
    },
    {
     "data": {
      "text/html": [
       "\n",
       "    <div>\n",
       "        <style>\n",
       "            /* Turns off some styling */\n",
       "            progress {\n",
       "                /* gets rid of default border in Firefox and Opera. */\n",
       "                border: none;\n",
       "                /* Needs to be in here for Safari polyfill so background images work as expected. */\n",
       "                background-size: auto;\n",
       "            }\n",
       "            .progress-bar-interrupted, .progress-bar-interrupted::-webkit-progress-bar {\n",
       "                background: #F44336;\n",
       "            }\n",
       "        </style>\n",
       "      <progress value='8000' class='' max='8000' style='width:300px; height:20px; vertical-align: middle;'></progress>\n",
       "      100.00% [8000/8000 00:02<00:00 Sampling 4 chains, 0 divergences]\n",
       "    </div>\n",
       "    "
      ],
      "text/plain": [
       "<IPython.core.display.HTML object>"
      ]
     },
     "metadata": {},
     "output_type": "display_data"
    },
    {
     "name": "stderr",
     "output_type": "stream",
     "text": [
      "Sampling 4 chains for 1_000 tune and 1_000 draw iterations (4_000 + 4_000 draws total) took 14 seconds.\n"
     ]
    }
   ],
   "source": [
    "with tierneyprior:\n",
    "    tierneytrace=pm.sample(return_inferencedata=True)\n",
    "with tierneyprior_fixed:\n",
    "    tierney_fixed_trace=pm.sample(return_inferencedata=True)\n",
    "with broadprior:\n",
    "    broadtrace=pm.sample(return_inferencedata=True)\n",
    "with broadprior_fixed:\n",
    "    broadtrace_fixed=pm.sample(return_inferencedata=True)"
   ]
  },
  {
   "cell_type": "code",
   "execution_count": 7,
   "id": "revolutionary-style",
   "metadata": {},
   "outputs": [
    {
     "data": {
      "text/plain": [
       "<AxesSubplot:title={'center':'μ'}, ylabel='Density'>"
      ]
     },
     "execution_count": 7,
     "metadata": {},
     "output_type": "execute_result"
    },
    {
     "data": {
      "image/png": "[encoded data removed]",
      "text/plain": [
       "<Figure size 432x288 with 1 Axes>"
      ]
     },
     "metadata": {
      "needs_background": "light"
     },
     "output_type": "display_data"
    },
    {
     "data": {
      "image/png": "[encoded data removed]",
      "text/plain": [
       "<Figure size 432x288 with 1 Axes>"
      ]
     },
     "metadata": {
      "needs_background": "light"
     },
     "output_type": "display_data"
    }
   ],
   "source": [
    "#If our priors are EXACTLY the tierney estimates and we believe there to be substantial random spread among studies, we don't really budge\n",
    "az.plot_posterior(tierneytrace.posterior.μ)\n",
    "#If our priors are the Tierney estimates and we believe all studies to be measuring the same thing, T20 is just an outlier\n",
    "az.plot_posterior(tierney_fixed_trace.posterior.μ)\n",
    "#sns.kdeplot(np.random.normal(-5,1,100000),c=\"r\")\n",
    "sns.kdeplot(y,c=\"k\")"
   ]
  },
  {
   "cell_type": "code",
   "execution_count": 8,
   "id": "requested-brief",
   "metadata": {},
   "outputs": [
    {
     "data": {
      "image/png": "[encoded data removed]",
      "text/plain": [
       "<Figure size 504x288 with 1 Axes>"
      ]
     },
     "metadata": {
      "needs_background": "light"
     },
     "output_type": "display_data"
    }
   ],
   "source": [
    "#Meta analysis of temperature\n",
    "plt.figure(figsize=(7,4))\n",
    "sns.kdeplot(broadtrace.posterior.μ.values.flatten(),label=\"Random effects, broad prior\")\n",
    "sns.kdeplot(broadtrace_fixed.posterior.μ.values.flatten(),label=\"Fixed effect, broad prior\")\n",
    "sns.kdeplot(tierneytrace.posterior.μ.values.flatten(),label=\"Random effects, T20 prior\")\n",
    "sns.kdeplot(tierney_fixed_trace.posterior.μ.values.flatten(),label=\"Fixed effect, T20 prior\")\n",
    "plt.xlabel(\"ΔT\")\n",
    "plt.legend()\n",
    "plt.savefig(\"FIGS/meta.png\")"
   ]
  },
  {
   "cell_type": "code",
   "execution_count": 9,
   "id": "contrary-conditions",
   "metadata": {},
   "outputs": [
    {
     "data": {
      "text/plain": [
       "array([-6.2112926 , -5.61538728])"
      ]
     },
     "execution_count": 9,
     "metadata": {},
     "output_type": "execute_result"
    }
   ],
   "source": [
    "#Highest posterior density intervals\n",
    "az.hdi(tierneytrace.posterior.μ,hdi_prob=.90).μ.values"
   ]
  },
  {
   "cell_type": "code",
   "execution_count": 10,
   "id": "cardiac-river",
   "metadata": {},
   "outputs": [],
   "source": [
    "pmip3_rice=LGM_forcing[(LGM_forcing.Other==\"PMIP3\") &(LGM_forcing.Quantity==\"Rice\") ].Mean.values\n",
    "pmip4_rice=LGM_forcing[(LGM_forcing.Other==\"PMIP4\") &(LGM_forcing.Quantity==\"Rice\") ].Mean.values\n",
    "\n",
    "dust_estimates=LGM_forcing[LGM_forcing.Quantity==\"Rdust\"].Mean.values\n",
    "insolation_estimates=LGM_forcing[LGM_forcing.Quantity==\"Rinsolation\"].Mean.values\n",
    "ghg_estimates=LGM_forcing[LGM_forcing.Quantity==\"Rghg\"].Mean.values\n",
    "ice_estimates=np.append(pmip3_rice,pmip4_rice)"
   ]
  },
  {
   "cell_type": "code",
   "execution_count": 11,
   "id": "powered-ratio",
   "metadata": {},
   "outputs": [
    {
     "name": "stderr",
     "output_type": "stream",
     "text": [
      "Auto-assigning NUTS sampler...\n",
      "Initializing NUTS using jitter+adapt_diag...\n",
      "Multiprocess sampling (4 chains in 4 jobs)\n",
      "NUTS: [σ_insolation, μ_insolation, σ_dust, μ_dust, σ_ice, μ_ice]\n"
     ]
    },
    {
     "data": {
      "text/html": [
       "\n",
       "    <div>\n",
       "        <style>\n",
       "            /* Turns off some styling */\n",
       "            progress {\n",
       "                /* gets rid of default border in Firefox and Opera. */\n",
       "                border: none;\n",
       "                /* Needs to be in here for Safari polyfill so background images work as expected. */\n",
       "                background-size: auto;\n",
       "            }\n",
       "            .progress-bar-interrupted, .progress-bar-interrupted::-webkit-progress-bar {\n",
       "                background: #F44336;\n",
       "            }\n",
       "        </style>\n",
       "      <progress value='8000' class='' max='8000' style='width:300px; height:20px; vertical-align: middle;'></progress>\n",
       "      100.00% [8000/8000 00:05<00:00 Sampling 4 chains, 0 divergences]\n",
       "    </div>\n",
       "    "
      ],
      "text/plain": [
       "<IPython.core.display.HTML object>"
      ]
     },
     "metadata": {},
     "output_type": "display_data"
    },
    {
     "name": "stderr",
     "output_type": "stream",
     "text": [
      "Sampling 4 chains for 1_000 tune and 1_000 draw iterations (4_000 + 4_000 draws total) took 17 seconds.\n"
     ]
    }
   ],
   "source": [
    "with pm.Model() as nonGHGforcings:\n",
    "    μ_ice = pm.Normal(\"μ_ice\",0,10)\n",
    "    σ_ice = pm.HalfNormal('σ_ice', sd=10)\n",
    "    F_ice = pm.Normal('F_ice', mu=μ_ice, sd=σ_ice, observed=ice_estimates)\n",
    "    \n",
    "    μ_dust = pm.Normal(\"μ_dust\",0,10)\n",
    "    σ_dust = pm.HalfNormal('σ_dust', sd=10)\n",
    "    F_dust = pm.Normal('F_dust', mu=μ_dust, sd=σ_dust, observed=dust_estimates)\n",
    "    \n",
    "    μ_insolation = pm.Normal(\"μ_insolation\",0,10)\n",
    "    σ_insolation = pm.HalfNormal('σ_insolation', sd=10)\n",
    "    F_insolation = pm.Normal('F_insolation', mu=μ_insolation, sd=σ_insolation, observed=insolation_estimates)\n",
    "    \n",
    "    total=μ_dust+μ_ice+μ_insolation\n",
    "        \n",
    "#     μ_GHG = pm.Normal(\"μ_GHG\",0,10)\n",
    "#     σ_GHG = pm.HalfNormal('σ_GHG', sd=10)\n",
    "#     F_GHG = pm.Normal('F_GHG', mu=μ, sd=σ, observed=GHG_estimates)\n",
    "    \n",
    "    \n",
    "with nonGHGforcings:\n",
    "    testtrace=pm.sample(return_inferencedata=True)"
   ]
  },
  {
   "cell_type": "code",
   "execution_count": 12,
   "id": "touched-smooth",
   "metadata": {},
   "outputs": [
    {
     "data": {
      "image/png": "[encoded data removed]",
      "text/plain": [
       "<Figure size 432x288 with 1 Axes>"
      ]
     },
     "metadata": {
      "needs_background": "light"
     },
     "output_type": "display_data"
    }
   ],
   "source": [
    "non_GHG_forcings_posterior=(testtrace.posterior.μ_ice+testtrace.posterior.μ_insolation+testtrace.posterior.μ_dust).values.flatten()\n",
    "tmp=plt.hist(non_GHG_forcings_posterior,50)\n"
   ]
  },
  {
   "cell_type": "code",
   "execution_count": 27,
   "id": "orange-circle",
   "metadata": {},
   "outputs": [
    {
     "data": {
      "text/plain": [
       "array([-4.81862303, -3.53557729])"
      ]
     },
     "execution_count": 27,
     "metadata": {},
     "output_type": "execute_result"
    }
   ],
   "source": [
    "az.hdi(non_GHG_forcings_posterior,hdi_prob=.9)"
   ]
  },
  {
   "cell_type": "code",
   "execution_count": 13,
   "id": "embedded-contributor",
   "metadata": {},
   "outputs": [],
   "source": [
    "#from S20\n",
    "vegetation_forcing=np.random.normal(-1.1,0.6/1.64,len(non_GHG_forcings_posterior))\n",
    "GHG_forcing=np.random.normal(-2.27+-0.57 +-0.28,0.26,len(non_GHG_forcings_posterior))\n",
    "LGM_forcing=non_GHG_forcings_posterior+GHG_forcing+vegetation_forcing\n",
    "muF_meta=np.average(LGM_forcing)\n",
    "sigF_meta=np.std(LGM_forcing)"
   ]
  },
  {
   "cell_type": "code",
   "execution_count": 15,
   "id": "superb-settlement",
   "metadata": {},
   "outputs": [],
   "source": [
    "muT_meta=np.average(broadtrace.posterior.μ)\n",
    "sigT_meta=np.std(broadtrace.posterior.μ.values.flatten())\n"
   ]
  },
  {
   "cell_type": "code",
   "execution_count": 16,
   "id": "written-press",
   "metadata": {},
   "outputs": [],
   "source": [
    "def PT(T):\n",
    "    \n",
    "    muT= muT_meta\n",
    "    sigT=sigT_meta\n",
    "    \n",
    "    return np.exp(-0.5*(T-muT)**2/sigT**2)*1/(np.sqrt(2*np.pi)*sigT)\n",
    "def PF(F):\n",
    "    muF=muF_meta\n",
    "    sigF=sigF_meta\n",
    "    \n",
    "\n",
    "    #muT=-5.\n",
    "    #sigT=1.\n",
    "    return np.exp(-0.5*(F-muF)**2/sigF**2)*1/(np.sqrt(2*np.pi)*sigF)\n",
    "  "
   ]
  },
  {
   "cell_type": "code",
   "execution_count": 17,
   "id": "contained-state",
   "metadata": {},
   "outputs": [],
   "source": [
    "lams=np.linspace(-5,5,1000)\n",
    "alphas=np.linspace(-1,1,500)\n",
    "lamshape=len(lams)\n",
    "alphashape=len(alphas)"
   ]
  },
  {
   "cell_type": "code",
   "execution_count": 18,
   "id": "cleared-seven",
   "metadata": {},
   "outputs": [],
   "source": [
    "def LGM_likelihood_meta(lam,alpha):\n",
    "    \n",
    "    #integrand=lambda x: PF(2*alpha*x**2- lam*x)*PT(x,tempfrom=tempfrom)* np.sqrt(1+(4*alpha*x-lam)**2)\n",
    "    integrand=lambda x: PF(-alpha/2.*x**2- lam*x)*PT(x)* np.sqrt(1+(-alpha*x+-lam)**2)\n",
    "\n",
    "    return integrate.quad(integrand,-np.inf,np.inf)[0]"
   ]
  },
  {
   "cell_type": "code",
   "execution_count": 20,
   "id": "north-forth",
   "metadata": {},
   "outputs": [],
   "source": [
    "\n",
    "LGM0=np.array([LGM_likelihood_meta(x,0) for x in lams])\n"
   ]
  },
  {
   "cell_type": "code",
   "execution_count": 21,
   "id": "tribal-adventure",
   "metadata": {},
   "outputs": [
    {
     "data": {
      "text/plain": [
       "[<matplotlib.lines.Line2D at 0x16e16e910>]"
      ]
     },
     "execution_count": 21,
     "metadata": {},
     "output_type": "execute_result"
    },
    {
     "data": {
      "image/png": "[encoded data removed]",
      "text/plain": [
       "<Figure size 432x288 with 1 Axes>"
      ]
     },
     "metadata": {
      "needs_background": "light"
     },
     "output_type": "display_data"
    }
   ],
   "source": [
    "plt.plot(lams,LGM0)"
   ]
  },
  {
   "cell_type": "code",
   "execution_count": null,
   "id": "difficult-fishing",
   "metadata": {},
   "outputs": [],
   "source": []
  },
  {
   "cell_type": "code",
   "execution_count": 276,
   "id": "finite-reviewer",
   "metadata": {},
   "outputs": [],
   "source": [
    "generate_joint_PDF=False\n",
    "pickle_it=False\n",
    "if generate_joint_PDF:\n",
    "    JPDF_meta=np.zeros((lamshape,alphashape))\n",
    "    \n",
    "    for i in range(lamshape):\n",
    "        for j in range(alphashape):\n",
    "            JPDF_meta[i,j]=LGM_likelihood_meta(lams[i],alphas[j])\n",
    "\n",
    "   "
   ]
  },
  {
   "cell_type": "code",
   "execution_count": 277,
   "id": "indie-buddy",
   "metadata": {},
   "outputs": [],
   "source": [
    "import datetime\n",
    "import pickle\n",
    "if pickle_it:\n",
    "    today=datetime.date.today().strftime(\"%m%d%Y\")\n",
    "    with open(\"PICKLED/LGM_JPDF_meta_\"+today+\".pkl\",\"wb\") as picklefile:\n",
    "        pickle.dump(JPDF_meta,picklefile)"
   ]
  },
  {
   "cell_type": "code",
   "execution_count": null,
   "id": "structural-rochester",
   "metadata": {},
   "outputs": [],
   "source": []
  }
 ],
 "metadata": {
  "kernelspec": {
   "display_name": "Python 3",
   "language": "python",
   "name": "python3"
  },
  "language_info": {
   "codemirror_mode": {
    "name": "ipython",
    "version": 3
   },
   "file_extension": ".py",
   "mimetype": "text/x-python",
   "name": "python",
   "nbconvert_exporter": "python",
   "pygments_lexer": "ipython3",
   "version": "3.9.2"
  }
 },
 "nbformat": 4,
 "nbformat_minor": 5
}
